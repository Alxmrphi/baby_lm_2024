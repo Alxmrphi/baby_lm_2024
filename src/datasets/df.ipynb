{
 "cells": [
  {
   "cell_type": "code",
   "execution_count": 2,
   "metadata": {},
   "outputs": [],
   "source": [
    "import pandas as pd\n",
    "from tqdm import tqdm\n"
   ]
  },
  {
   "cell_type": "code",
   "execution_count": 36,
   "metadata": {},
   "outputs": [],
   "source": [
    "\n",
    "open_images_tsv = 'osf/multimodal_data/open_images_train.tsv'\n",
    "\n",
    "mscoco_tsv = 'osf/multimodal_data/mscoco_train.tsv'\n",
    "\n",
    "cc_3m_tsv = 'osf/multimodal_data/cc_3m_training_exists_concatenated_with_captions_reduced_unzip.tsv'\n",
    "\n",
    "oi_df = pd.read_csv(open_images_tsv, sep='\\t', index_col=0)\n",
    "\n",
    "ms_df = pd.read_csv(mscoco_tsv, sep='\\t', index_col=0)\n",
    "\n",
    "cc_3m_df = pd.read_csv(cc_3m_tsv, sep='\\t', index_col=0)"
   ]
  },
  {
   "cell_type": "code",
   "execution_count": 37,
   "metadata": {},
   "outputs": [
    {
     "name": "stdout",
     "output_type": "stream",
     "text": [
      "                                           image_url    folder  exists  \\\n",
      "0  https://s3.amazonaws.com/open-images-dataset/t...  training       1   \n",
      "1  https://s3.amazonaws.com/open-images-dataset/t...  training       1   \n",
      "2  https://s3.amazonaws.com/open-images-dataset/t...  training       1   \n",
      "3  https://s3.amazonaws.com/open-images-dataset/t...  training       1   \n",
      "4  https://s3.amazonaws.com/open-images-dataset/t...  training       1   \n",
      "\n",
      "                                             caption source_dataset  \n",
      "0  We can see dolls,book and papers on bed and we...    open_images  \n",
      "1  In this picture I can see there is a airplane ...    open_images  \n",
      "2  This looks like a black and white poster. I ca...    open_images  \n",
      "3  In this image I can see on the left side it is...    open_images  \n",
      "4  In this picture I can see group of people sitt...    open_images  \n",
      "                                           image_url    folder  exists  \\\n",
      "0  http://images.cocodataset.org/train2014/COCO_t...  training       1   \n",
      "1  http://images.cocodataset.org/train2014/COCO_t...  training       1   \n",
      "2  http://images.cocodataset.org/train2014/COCO_t...  training       1   \n",
      "3  http://images.cocodataset.org/train2014/COCO_t...  training       1   \n",
      "4  http://images.cocodataset.org/train2014/COCO_t...  training       1   \n",
      "\n",
      "                                             caption source_dataset  \n",
      "0  In this image there is a man standing near the...         mscoco  \n",
      "1  In the picture we can see a man is boating he ...         mscoco  \n",
      "2  In this image we can see there are so many boa...         mscoco  \n",
      "3  In this image in the center there are two gira...         mscoco  \n",
      "4  In this image on a bed there is a lady and a b...         mscoco  \n",
      "                                           image_url    folder  exists  \\\n",
      "0  https://i.pinimg.com/736x/e1/b3/b4/e1b3b4bb0bc...  training       1   \n",
      "1  http://4.bp.blogspot.com/-ETyb5B0MliM/VhceZyOM...  training       1   \n",
      "2  http://l7.alamy.com/zooms/723775c12bec427b9e8e...  training       1   \n",
      "3  https://s-media-cache-ak0.pinimg.com/736x/40/a...  training       1   \n",
      "4  https://us.123rf.com/450wm/123vector/123vector...  training       1   \n",
      "\n",
      "                                             caption  \n",
      "0      the festival ~ focused - make these at home !  \n",
      "1                looks especially good from the back  \n",
      "2  a man looks at computer which displays the log...  \n",
      "3  an interior design , decorating , and diy life...  \n",
      "4  vector illustration of no swimming sign on whi...  \n"
     ]
    }
   ],
   "source": [
    "print(oi_df.head())\n",
    "print(ms_df.head())\n",
    "print(cc_3m_df.head())"
   ]
  },
  {
   "cell_type": "code",
   "execution_count": 40,
   "metadata": {},
   "outputs": [
    {
     "data": {
      "text/plain": [
       "image_url         134272\n",
       "folder            134272\n",
       "exists            134272\n",
       "caption           134272\n",
       "source_dataset    134272\n",
       "dtype: int64"
      ]
     },
     "execution_count": 40,
     "metadata": {},
     "output_type": "execute_result"
    }
   ],
   "source": [
    "ms_df.count()"
   ]
  },
  {
   "cell_type": "code",
   "execution_count": 32,
   "metadata": {},
   "outputs": [
    {
     "data": {
      "text/plain": [
       "array([1])"
      ]
     },
     "execution_count": 32,
     "metadata": {},
     "output_type": "execute_result"
    }
   ],
   "source": [
    "oi_df['exists'].unique()"
   ]
  },
  {
   "cell_type": "code",
   "execution_count": 20,
   "metadata": {},
   "outputs": [],
   "source": [
    "oi_df[\"exists\"] = [1] * len(oi_df)"
   ]
  },
  {
   "cell_type": "code",
   "execution_count": 41,
   "metadata": {},
   "outputs": [
    {
     "name": "stdout",
     "output_type": "stream",
     "text": [
      "                                           image_url    folder  exists  \\\n",
      "0  https://s3.amazonaws.com/open-images-dataset/t...  training       1   \n",
      "1  https://s3.amazonaws.com/open-images-dataset/t...  training       1   \n",
      "2  https://s3.amazonaws.com/open-images-dataset/t...  training       1   \n",
      "3  https://s3.amazonaws.com/open-images-dataset/t...  training       1   \n",
      "4  https://s3.amazonaws.com/open-images-dataset/t...  training       1   \n",
      "\n",
      "                                             caption source_dataset  \n",
      "0  We can see dolls,book and papers on bed and we...    open_images  \n",
      "1  In this picture I can see there is a airplane ...    open_images  \n",
      "2  This looks like a black and white poster. I ca...    open_images  \n",
      "3  In this image I can see on the left side it is...    open_images  \n",
      "4  In this picture I can see group of people sitt...    open_images  \n",
      "                                           image_url    folder  exists  \\\n",
      "0  http://images.cocodataset.org/train2014/COCO_t...  training       1   \n",
      "1  http://images.cocodataset.org/train2014/COCO_t...  training       1   \n",
      "2  http://images.cocodataset.org/train2014/COCO_t...  training       1   \n",
      "3  http://images.cocodataset.org/train2014/COCO_t...  training       1   \n",
      "4  http://images.cocodataset.org/train2014/COCO_t...  training       1   \n",
      "\n",
      "                                             caption source_dataset  \n",
      "0  In this image there is a man standing near the...         mscoco  \n",
      "1  In the picture we can see a man is boating he ...         mscoco  \n",
      "2  In this image we can see there are so many boa...         mscoco  \n",
      "3  In this image in the center there are two gira...         mscoco  \n",
      "4  In this image on a bed there is a lady and a b...         mscoco  \n",
      "                                           image_url    folder  exists  \\\n",
      "0  https://i.pinimg.com/736x/e1/b3/b4/e1b3b4bb0bc...  training       1   \n",
      "1  http://4.bp.blogspot.com/-ETyb5B0MliM/VhceZyOM...  training       1   \n",
      "2  http://l7.alamy.com/zooms/723775c12bec427b9e8e...  training       1   \n",
      "3  https://s-media-cache-ak0.pinimg.com/736x/40/a...  training       1   \n",
      "4  https://us.123rf.com/450wm/123vector/123vector...  training       1   \n",
      "\n",
      "                                             caption source_dataset  \n",
      "0      the festival ~ focused - make these at home !          cc_3m  \n",
      "1                looks especially good from the back          cc_3m  \n",
      "2  a man looks at computer which displays the log...          cc_3m  \n",
      "3  an interior design , decorating , and diy life...          cc_3m  \n",
      "4  vector illustration of no swimming sign on whi...          cc_3m  \n"
     ]
    }
   ],
   "source": [
    "# oi_df.insert(4, 'source_dataset', ['open_images'] * len(oi_df), allow_duplicates=True)\n",
    "# ms_df.insert(4, 'source_dataset', ['mscoco'] * len(ms_df), allow_duplicates=True)\n",
    "cc_3m_df.insert(4, 'source_dataset', ['cc_3m'] * len(cc_3m_df), allow_duplicates=True)\n",
    "\n",
    "\n",
    "# oi_df[[\"exists\"]] = oi_df[['exists']].astype(int)\n",
    "# ms_df[[\"exists\"]] = ms_df[['exists']].astype(int)\n",
    "\n",
    "\n",
    "print(oi_df.head())\n",
    "print(ms_df.head())\n",
    "print(cc_3m_df.head())"
   ]
  },
  {
   "cell_type": "code",
   "execution_count": 42,
   "metadata": {},
   "outputs": [
    {
     "data": {
      "text/html": [
       "<div>\n",
       "<style scoped>\n",
       "    .dataframe tbody tr th:only-of-type {\n",
       "        vertical-align: middle;\n",
       "    }\n",
       "\n",
       "    .dataframe tbody tr th {\n",
       "        vertical-align: top;\n",
       "    }\n",
       "\n",
       "    .dataframe thead th {\n",
       "        text-align: right;\n",
       "    }\n",
       "</style>\n",
       "<table border=\"1\" class=\"dataframe\">\n",
       "  <thead>\n",
       "    <tr style=\"text-align: right;\">\n",
       "      <th></th>\n",
       "      <th>image_url</th>\n",
       "      <th>folder</th>\n",
       "      <th>exists</th>\n",
       "      <th>caption</th>\n",
       "      <th>source_dataset</th>\n",
       "    </tr>\n",
       "  </thead>\n",
       "  <tbody>\n",
       "    <tr>\n",
       "      <th>0</th>\n",
       "      <td>http://images.cocodataset.org/train2014/COCO_t...</td>\n",
       "      <td>training</td>\n",
       "      <td>1</td>\n",
       "      <td>In this image there is a man standing near the...</td>\n",
       "      <td>mscoco</td>\n",
       "    </tr>\n",
       "    <tr>\n",
       "      <th>1</th>\n",
       "      <td>http://images.cocodataset.org/train2014/COCO_t...</td>\n",
       "      <td>training</td>\n",
       "      <td>1</td>\n",
       "      <td>In the picture we can see a man is boating he ...</td>\n",
       "      <td>mscoco</td>\n",
       "    </tr>\n",
       "    <tr>\n",
       "      <th>2</th>\n",
       "      <td>http://images.cocodataset.org/train2014/COCO_t...</td>\n",
       "      <td>training</td>\n",
       "      <td>1</td>\n",
       "      <td>In this image we can see there are so many boa...</td>\n",
       "      <td>mscoco</td>\n",
       "    </tr>\n",
       "    <tr>\n",
       "      <th>3</th>\n",
       "      <td>http://images.cocodataset.org/train2014/COCO_t...</td>\n",
       "      <td>training</td>\n",
       "      <td>1</td>\n",
       "      <td>In this image in the center there are two gira...</td>\n",
       "      <td>mscoco</td>\n",
       "    </tr>\n",
       "    <tr>\n",
       "      <th>4</th>\n",
       "      <td>http://images.cocodataset.org/train2014/COCO_t...</td>\n",
       "      <td>training</td>\n",
       "      <td>1</td>\n",
       "      <td>In this image on a bed there is a lady and a b...</td>\n",
       "      <td>mscoco</td>\n",
       "    </tr>\n",
       "    <tr>\n",
       "      <th>...</th>\n",
       "      <td>...</td>\n",
       "      <td>...</td>\n",
       "      <td>...</td>\n",
       "      <td>...</td>\n",
       "      <td>...</td>\n",
       "    </tr>\n",
       "    <tr>\n",
       "      <th>2209351</th>\n",
       "      <td>http://l7.alamy.com/zooms/4b6fed86a6df4a1c9f45...</td>\n",
       "      <td>training</td>\n",
       "      <td>1</td>\n",
       "      <td>the dome of gallery in the center</td>\n",
       "      <td>cc_3m</td>\n",
       "    </tr>\n",
       "    <tr>\n",
       "      <th>2209352</th>\n",
       "      <td>http://l7.alamy.com/zooms/ff0256cf2e7e442a95a2...</td>\n",
       "      <td>training</td>\n",
       "      <td>1</td>\n",
       "      <td>riders galloping on horses during a ride out i...</td>\n",
       "      <td>cc_3m</td>\n",
       "    </tr>\n",
       "    <tr>\n",
       "      <th>2209353</th>\n",
       "      <td>http://livelovetexas.com/wp-content/uploads/20...</td>\n",
       "      <td>training</td>\n",
       "      <td>1</td>\n",
       "      <td>get your kids excited and in the spirit with b...</td>\n",
       "      <td>cc_3m</td>\n",
       "    </tr>\n",
       "    <tr>\n",
       "      <th>2209354</th>\n",
       "      <td>https://ak7.picdn.net/shutterstock/videos/2712...</td>\n",
       "      <td>training</td>\n",
       "      <td>1</td>\n",
       "      <td>rain falls to the ground</td>\n",
       "      <td>cc_3m</td>\n",
       "    </tr>\n",
       "    <tr>\n",
       "      <th>2209355</th>\n",
       "      <td>https://us.123rf.com/450wm/artnis/artnis1510/a...</td>\n",
       "      <td>training</td>\n",
       "      <td>1</td>\n",
       "      <td>illustration of a happy family at breakfast .</td>\n",
       "      <td>cc_3m</td>\n",
       "    </tr>\n",
       "  </tbody>\n",
       "</table>\n",
       "<p>2851072 rows × 5 columns</p>\n",
       "</div>"
      ],
      "text/plain": [
       "                                                 image_url    folder  exists  \\\n",
       "0        http://images.cocodataset.org/train2014/COCO_t...  training       1   \n",
       "1        http://images.cocodataset.org/train2014/COCO_t...  training       1   \n",
       "2        http://images.cocodataset.org/train2014/COCO_t...  training       1   \n",
       "3        http://images.cocodataset.org/train2014/COCO_t...  training       1   \n",
       "4        http://images.cocodataset.org/train2014/COCO_t...  training       1   \n",
       "...                                                    ...       ...     ...   \n",
       "2209351  http://l7.alamy.com/zooms/4b6fed86a6df4a1c9f45...  training       1   \n",
       "2209352  http://l7.alamy.com/zooms/ff0256cf2e7e442a95a2...  training       1   \n",
       "2209353  http://livelovetexas.com/wp-content/uploads/20...  training       1   \n",
       "2209354  https://ak7.picdn.net/shutterstock/videos/2712...  training       1   \n",
       "2209355  https://us.123rf.com/450wm/artnis/artnis1510/a...  training       1   \n",
       "\n",
       "                                                   caption source_dataset  \n",
       "0        In this image there is a man standing near the...         mscoco  \n",
       "1        In the picture we can see a man is boating he ...         mscoco  \n",
       "2        In this image we can see there are so many boa...         mscoco  \n",
       "3        In this image in the center there are two gira...         mscoco  \n",
       "4        In this image on a bed there is a lady and a b...         mscoco  \n",
       "...                                                    ...            ...  \n",
       "2209351                  the dome of gallery in the center          cc_3m  \n",
       "2209352  riders galloping on horses during a ride out i...          cc_3m  \n",
       "2209353  get your kids excited and in the spirit with b...          cc_3m  \n",
       "2209354                           rain falls to the ground          cc_3m  \n",
       "2209355      illustration of a happy family at breakfast .          cc_3m  \n",
       "\n",
       "[2851072 rows x 5 columns]"
      ]
     },
     "execution_count": 42,
     "metadata": {},
     "output_type": "execute_result"
    }
   ],
   "source": [
    "final_df = pd.concat([ms_df, oi_df, cc_3m_df])\n",
    "\n",
    "final_df"
   ]
  },
  {
   "cell_type": "code",
   "execution_count": null,
   "metadata": {},
   "outputs": [],
   "source": [
    "final_df.to_csv('osf/multimodal_data/all_multimodal.tsv', sep='\\t')"
   ]
  }
 ],
 "metadata": {
  "kernelspec": {
   "display_name": "babylm",
   "language": "python",
   "name": "python3"
  },
  "language_info": {
   "codemirror_mode": {
    "name": "ipython",
    "version": 3
   },
   "file_extension": ".py",
   "mimetype": "text/x-python",
   "name": "python",
   "nbconvert_exporter": "python",
   "pygments_lexer": "ipython3",
   "version": "3.10.14"
  }
 },
 "nbformat": 4,
 "nbformat_minor": 2
}
