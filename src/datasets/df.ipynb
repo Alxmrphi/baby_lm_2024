{
 "cells": [
  {
   "cell_type": "code",
   "execution_count": 1,
   "metadata": {},
   "outputs": [],
   "source": [
    "import pandas as pd\n",
    "from tqdm import tqdm\n"
   ]
  },
  {
   "cell_type": "code",
   "execution_count": 2,
   "metadata": {},
   "outputs": [],
   "source": [
    "df = pd.read_csv('multimodal_train/all_multimodal.tsv', sep='\\t', index_col=0)"
   ]
  },
  {
   "cell_type": "code",
   "execution_count": 3,
   "metadata": {},
   "outputs": [
    {
     "data": {
      "text/plain": [
       "image_url         2851072\n",
       "folder            2851072\n",
       "exists            2851072\n",
       "caption           2851072\n",
       "source_dataset    2851072\n",
       "dtype: int64"
      ]
     },
     "execution_count": 3,
     "metadata": {},
     "output_type": "execute_result"
    }
   ],
   "source": [
    "df.count()"
   ]
  },
  {
   "cell_type": "code",
   "execution_count": 6,
   "metadata": {},
   "outputs": [
    {
     "data": {
      "text/plain": [
       "source_dataset\n",
       "cc_3m          2209356\n",
       "open_images     507444\n",
       "mscoco          134272\n",
       "Name: count, dtype: int64"
      ]
     },
     "execution_count": 6,
     "metadata": {},
     "output_type": "execute_result"
    }
   ],
   "source": [
    "df['source_dataset'].value_counts()"
   ]
  },
  {
   "cell_type": "code",
   "execution_count": 5,
   "metadata": {},
   "outputs": [],
   "source": [
    "pd.set_option('display.max_colwidth', None)"
   ]
  },
  {
   "cell_type": "code",
   "execution_count": 6,
   "metadata": {},
   "outputs": [
    {
     "data": {
      "text/html": [
       "<div>\n",
       "<style scoped>\n",
       "    .dataframe tbody tr th:only-of-type {\n",
       "        vertical-align: middle;\n",
       "    }\n",
       "\n",
       "    .dataframe tbody tr th {\n",
       "        vertical-align: top;\n",
       "    }\n",
       "\n",
       "    .dataframe thead th {\n",
       "        text-align: right;\n",
       "    }\n",
       "</style>\n",
       "<table border=\"1\" class=\"dataframe\">\n",
       "  <thead>\n",
       "    <tr style=\"text-align: right;\">\n",
       "      <th></th>\n",
       "      <th>image_url</th>\n",
       "      <th>folder</th>\n",
       "      <th>exists</th>\n",
       "      <th>caption</th>\n",
       "      <th>source_dataset</th>\n",
       "    </tr>\n",
       "  </thead>\n",
       "  <tbody>\n",
       "    <tr>\n",
       "      <th>8313</th>\n",
       "      <td>http://images.cocodataset.org/train2014/COCO_train2014_000000235469.jpg</td>\n",
       "      <td>training</td>\n",
       "      <td>1</td>\n",
       "      <td>In this picture there are group of things placed on the floor. The things contains bag, helmet, book, file, mobiles, pens, sticks, spoon, marker, iPad, hammer, tape, bottle etc. In the top there is a wooden wall.</td>\n",
       "      <td>mscoco</td>\n",
       "    </tr>\n",
       "    <tr>\n",
       "      <th>10058</th>\n",
       "      <td>http://images.cocodataset.org/train2014/COCO_train2014_000000303311.jpg</td>\n",
       "      <td>training</td>\n",
       "      <td>1</td>\n",
       "      <td>In this picture there are three women holding glasses in their hands. A woman towards the left, she is wearing a grey blazer and carrying a bag. In the middle, she is wearing a brown dress. Towards the right, she is wearing a grey dress. Behind them there is a man.\\nIn the top there is a wooden wall.</td>\n",
       "      <td>mscoco</td>\n",
       "    </tr>\n",
       "  </tbody>\n",
       "</table>\n",
       "</div>"
      ],
      "text/plain": [
       "                                                                     image_url  \\\n",
       "8313   http://images.cocodataset.org/train2014/COCO_train2014_000000235469.jpg   \n",
       "10058  http://images.cocodataset.org/train2014/COCO_train2014_000000303311.jpg   \n",
       "\n",
       "         folder  exists  \\\n",
       "8313   training       1   \n",
       "10058  training       1   \n",
       "\n",
       "                                                                                                                                                                                                                                                                                                             caption  \\\n",
       "8313                                                                                            In this picture there are group of things placed on the floor. The things contains bag, helmet, book, file, mobiles, pens, sticks, spoon, marker, iPad, hammer, tape, bottle etc. In the top there is a wooden wall.   \n",
       "10058  In this picture there are three women holding glasses in their hands. A woman towards the left, she is wearing a grey blazer and carrying a bag. In the middle, she is wearing a brown dress. Towards the right, she is wearing a grey dress. Behind them there is a man.\\nIn the top there is a wooden wall.   \n",
       "\n",
       "      source_dataset  \n",
       "8313          mscoco  \n",
       "10058         mscoco  "
      ]
     },
     "execution_count": 6,
     "metadata": {},
     "output_type": "execute_result"
    }
   ],
   "source": [
    "df[df['caption'].str.contains('In the top there is a wooden wall.') == True]"
   ]
  },
  {
   "cell_type": "code",
   "execution_count": 7,
   "metadata": {},
   "outputs": [],
   "source": [
    "\n",
    "open_images_tsv = 'osf/multimodal_data/open_images_train.tsv'\n",
    "\n",
    "mscoco_tsv = 'osf/multimodal_data/mscoco_train.tsv'\n",
    "\n",
    "cc_3m_tsv = 'osf/multimodal_data/cc_3m_training_exists_concatenated_with_captions_reduced_unzip.tsv'\n",
    "\n",
    "oi_df = pd.read_csv(open_images_tsv, sep='\\t', index_col=0)\n",
    "\n",
    "ms_df = pd.read_csv(mscoco_tsv, sep='\\t', index_col=0)\n",
    "\n",
    "cc_3m_df = pd.read_csv(cc_3m_tsv, sep='\\t', index_col=0)"
   ]
  },
  {
   "cell_type": "code",
   "execution_count": 9,
   "metadata": {},
   "outputs": [
    {
     "data": {
      "text/html": [
       "<div>\n",
       "<style scoped>\n",
       "    .dataframe tbody tr th:only-of-type {\n",
       "        vertical-align: middle;\n",
       "    }\n",
       "\n",
       "    .dataframe tbody tr th {\n",
       "        vertical-align: top;\n",
       "    }\n",
       "\n",
       "    .dataframe thead th {\n",
       "        text-align: right;\n",
       "    }\n",
       "</style>\n",
       "<table border=\"1\" class=\"dataframe\">\n",
       "  <thead>\n",
       "    <tr style=\"text-align: right;\">\n",
       "      <th></th>\n",
       "      <th>image_url</th>\n",
       "      <th>folder</th>\n",
       "      <th>exists</th>\n",
       "      <th>caption</th>\n",
       "      <th>source_dataset</th>\n",
       "    </tr>\n",
       "  </thead>\n",
       "  <tbody>\n",
       "    <tr>\n",
       "      <th>8313</th>\n",
       "      <td>http://images.cocodataset.org/train2014/COCO_train2014_000000235469.jpg</td>\n",
       "      <td>training</td>\n",
       "      <td>1</td>\n",
       "      <td>In this picture there are group of things placed on the floor. The things contains bag, helmet, book, file, mobiles, pens, sticks, spoon, marker, iPad, hammer, tape, bottle etc. In the top there is a wooden wall.</td>\n",
       "      <td>mscoco</td>\n",
       "    </tr>\n",
       "    <tr>\n",
       "      <th>10058</th>\n",
       "      <td>http://images.cocodataset.org/train2014/COCO_train2014_000000303311.jpg</td>\n",
       "      <td>training</td>\n",
       "      <td>1</td>\n",
       "      <td>In this picture there are three women holding glasses in their hands. A woman towards the left, she is wearing a grey blazer and carrying a bag. In the middle, she is wearing a brown dress. Towards the right, she is wearing a grey dress. Behind them there is a man. In the top there is a wooden wall.</td>\n",
       "      <td>mscoco</td>\n",
       "    </tr>\n",
       "  </tbody>\n",
       "</table>\n",
       "</div>"
      ],
      "text/plain": [
       "                                                                     image_url  \\\n",
       "8313   http://images.cocodataset.org/train2014/COCO_train2014_000000235469.jpg   \n",
       "10058  http://images.cocodataset.org/train2014/COCO_train2014_000000303311.jpg   \n",
       "\n",
       "         folder  exists  \\\n",
       "8313   training       1   \n",
       "10058  training       1   \n",
       "\n",
       "                                                                                                                                                                                                                                                                                                            caption  \\\n",
       "8313                                                                                           In this picture there are group of things placed on the floor. The things contains bag, helmet, book, file, mobiles, pens, sticks, spoon, marker, iPad, hammer, tape, bottle etc. In the top there is a wooden wall.   \n",
       "10058  In this picture there are three women holding glasses in their hands. A woman towards the left, she is wearing a grey blazer and carrying a bag. In the middle, she is wearing a brown dress. Towards the right, she is wearing a grey dress. Behind them there is a man. In the top there is a wooden wall.   \n",
       "\n",
       "      source_dataset  \n",
       "8313          mscoco  \n",
       "10058         mscoco  "
      ]
     },
     "execution_count": 9,
     "metadata": {},
     "output_type": "execute_result"
    }
   ],
   "source": [
    "ms_df[ms_df['caption'].str.contains('In the top there is a wooden wall.') == True]"
   ]
  },
  {
   "cell_type": "code",
   "execution_count": 20,
   "metadata": {},
   "outputs": [
    {
     "name": "stdout",
     "output_type": "stream",
     "text": [
      "                                                                 image_url  \\\n",
      "0  https://s3.amazonaws.com/open-images-dataset/train/fc06c1b59dd8ca6e.jpg   \n",
      "1  https://s3.amazonaws.com/open-images-dataset/train/5833b3358fd949b5.jpg   \n",
      "2  https://s3.amazonaws.com/open-images-dataset/train/67f1e4231b964a23.jpg   \n",
      "3  https://s3.amazonaws.com/open-images-dataset/train/4839f5eac98771bf.jpg   \n",
      "4  https://s3.amazonaws.com/open-images-dataset/train/64373c6a90e7b8dd.jpg   \n",
      "\n",
      "     folder  exists  \\\n",
      "0  training       1   \n",
      "1  training       1   \n",
      "2  training       1   \n",
      "3  training       1   \n",
      "4  training       1   \n",
      "\n",
      "                                                                                                                                                                                                                                                                                                                                                            caption  \\\n",
      "0                                                                                                                                                                                                                                  We can see dolls,book and papers on bed and we can see poster on a wall,window and curtain,through this window we can see trees.   \n",
      "1                                                                                                                                                                                                         In this picture I can see there is a airplane and it has windows, wings and there are few people standing here holding the suitcase and the sky is clear.   \n",
      "2                                                                                                                                                                                                                                                      This looks like a black and white poster. I can see a picture of a pot. These are the letters on the poster.   \n",
      "3                                                                                                                                                                                                         In this image I can see on the left side it is a house. In the middle it looks like a tower, on the right side there are trees, at the top it is the sky.   \n",
      "4  In this picture I can see group of people sitting on the chairs, there are glasses, bottles, a paper with a number on it and some other items on the tables, there are drums, a person standing, mike's with the mikes stands, a tree decorated with lights,there is an air conditioner, disco balls, boards or frames to the wall and some musical instruments.   \n",
      "\n",
      "  source_dataset  \n",
      "0    open_images  \n",
      "1    open_images  \n",
      "2    open_images  \n",
      "3    open_images  \n",
      "4    open_images  \n",
      "                                                                 image_url  \\\n",
      "0  http://images.cocodataset.org/train2014/COCO_train2014_000000574357.jpg   \n",
      "1  http://images.cocodataset.org/train2014/COCO_train2014_000000498669.jpg   \n",
      "2  http://images.cocodataset.org/train2014/COCO_train2014_000000043347.jpg   \n",
      "3  http://images.cocodataset.org/train2014/COCO_train2014_000000226544.jpg   \n",
      "4  http://images.cocodataset.org/train2014/COCO_train2014_000000424412.jpg   \n",
      "\n",
      "     folder  exists  \\\n",
      "0  training       1   \n",
      "1  training       1   \n",
      "2  training       1   \n",
      "3  training       1   \n",
      "4  training       1   \n",
      "\n",
      "                                                                                                                                                                                                                                                                                  caption  \\\n",
      "0  In this image there is a man standing near the wall and seeing the lake which is in front of him. There is a motorbike behind him on which there is a bag. The man is wearing the helmet. At the background there is lake which has sand and trees beside it. At the top there is sky.   \n",
      "1                            In the picture we can see a man is boating he is holding a stick, and driving the boat, in the sea, in the boat we can see fruits and vegetables are packed, in the background we can see another boats on the sea, and we can see some trees and buildings.   \n",
      "2                                                                                                                           In this image we can see there are so many boats floating on water in middle of grass ground and trees where we can see there are some electrical poles also.   \n",
      "3                                                                                                                                    In this image in the center there are two giraffes, at the bottom there is grass and some plants. In the background there is a fence and some trees.   \n",
      "4                                                                                     In this image on a bed there is a lady and a boy are lying down. They both are holding food. There is a glass beside the lady. They both are smiling. On the bed there are few pillows and blanket.   \n",
      "\n",
      "  source_dataset  \n",
      "0         mscoco  \n",
      "1         mscoco  \n",
      "2         mscoco  \n",
      "3         mscoco  \n",
      "4         mscoco  \n",
      "                                                                                                                                              image_url  \\\n",
      "0                                                       https://i.pinimg.com/736x/e1/b3/b4/e1b3b4bb0bc78e55309931c46661c7ac--disney-diy-disney-food.jpg   \n",
      "1                                               http://4.bp.blogspot.com/-ETyb5B0MliM/VhceZyOM2sI/AAAAAAAAD5Y/dfI2aNvTe5E/s1600/IMG-20150929-WA0000.jpg   \n",
      "2              http://l7.alamy.com/zooms/723775c12bec427b9e8ed2d0990f4429/a-man-looks-at-his-iphone-which-displays-the-stagecoach-logo-while-gkwtgj.jpg   \n",
      "3                                                               https://s-media-cache-ak0.pinimg.com/736x/40/a3/18/40a3186aa46244ce9fb9817a478c4563.jpg   \n",
      "4  https://us.123rf.com/450wm/123vector/123vector1404/123vector140400402/27835243-vector-illustration-of-no-swimming-sign-on-white-background.jpg?ver=6   \n",
      "\n",
      "     folder  exists  \\\n",
      "0  training       1   \n",
      "1  training       1   \n",
      "2  training       1   \n",
      "3  training       1   \n",
      "4  training       1   \n",
      "\n",
      "                                                                                                                                    caption  \n",
      "0                                                                                             the festival ~ focused - make these at home !  \n",
      "1                                                                                                       looks especially good from the back  \n",
      "2                                                          a man looks at computer which displays the logo , while sat with a cup of coffee  \n",
      "3  an interior design , decorating , and diy lifestyle blog with budget decor and furniture sources , paint colors , designer room images .  \n",
      "4                                                                        vector illustration of no swimming sign on white background vector  \n"
     ]
    }
   ],
   "source": [
    "print(oi_df.head())\n",
    "print(ms_df.head())\n",
    "print(cc_3m_df.head())"
   ]
  },
  {
   "cell_type": "code",
   "execution_count": 21,
   "metadata": {},
   "outputs": [
    {
     "data": {
      "text/plain": [
       "image_url         134272\n",
       "folder            134272\n",
       "exists            134272\n",
       "caption           134272\n",
       "source_dataset    134272\n",
       "dtype: int64"
      ]
     },
     "execution_count": 21,
     "metadata": {},
     "output_type": "execute_result"
    }
   ],
   "source": [
    "ms_df.count()"
   ]
  },
  {
   "cell_type": "code",
   "execution_count": 22,
   "metadata": {},
   "outputs": [
    {
     "data": {
      "text/plain": [
       "array([1])"
      ]
     },
     "execution_count": 22,
     "metadata": {},
     "output_type": "execute_result"
    }
   ],
   "source": [
    "oi_df['exists'].unique()"
   ]
  },
  {
   "cell_type": "code",
   "execution_count": 20,
   "metadata": {},
   "outputs": [],
   "source": [
    "oi_df[\"exists\"] = [1] * len(oi_df)"
   ]
  },
  {
   "cell_type": "code",
   "execution_count": 23,
   "metadata": {},
   "outputs": [
    {
     "name": "stdout",
     "output_type": "stream",
     "text": [
      "                                                                 image_url  \\\n",
      "0  https://s3.amazonaws.com/open-images-dataset/train/fc06c1b59dd8ca6e.jpg   \n",
      "1  https://s3.amazonaws.com/open-images-dataset/train/5833b3358fd949b5.jpg   \n",
      "2  https://s3.amazonaws.com/open-images-dataset/train/67f1e4231b964a23.jpg   \n",
      "3  https://s3.amazonaws.com/open-images-dataset/train/4839f5eac98771bf.jpg   \n",
      "4  https://s3.amazonaws.com/open-images-dataset/train/64373c6a90e7b8dd.jpg   \n",
      "\n",
      "     folder  exists  \\\n",
      "0  training       1   \n",
      "1  training       1   \n",
      "2  training       1   \n",
      "3  training       1   \n",
      "4  training       1   \n",
      "\n",
      "                                                                                                                                                                                                                                                                                                                                                            caption  \\\n",
      "0                                                                                                                                                                                                                                  We can see dolls,book and papers on bed and we can see poster on a wall,window and curtain,through this window we can see trees.   \n",
      "1                                                                                                                                                                                                         In this picture I can see there is a airplane and it has windows, wings and there are few people standing here holding the suitcase and the sky is clear.   \n",
      "2                                                                                                                                                                                                                                                      This looks like a black and white poster. I can see a picture of a pot. These are the letters on the poster.   \n",
      "3                                                                                                                                                                                                         In this image I can see on the left side it is a house. In the middle it looks like a tower, on the right side there are trees, at the top it is the sky.   \n",
      "4  In this picture I can see group of people sitting on the chairs, there are glasses, bottles, a paper with a number on it and some other items on the tables, there are drums, a person standing, mike's with the mikes stands, a tree decorated with lights,there is an air conditioner, disco balls, boards or frames to the wall and some musical instruments.   \n",
      "\n",
      "  source_dataset  \n",
      "0    open_images  \n",
      "1    open_images  \n",
      "2    open_images  \n",
      "3    open_images  \n",
      "4    open_images  \n",
      "                                                                 image_url  \\\n",
      "0  http://images.cocodataset.org/train2014/COCO_train2014_000000574357.jpg   \n",
      "1  http://images.cocodataset.org/train2014/COCO_train2014_000000498669.jpg   \n",
      "2  http://images.cocodataset.org/train2014/COCO_train2014_000000043347.jpg   \n",
      "3  http://images.cocodataset.org/train2014/COCO_train2014_000000226544.jpg   \n",
      "4  http://images.cocodataset.org/train2014/COCO_train2014_000000424412.jpg   \n",
      "\n",
      "     folder  exists  \\\n",
      "0  training       1   \n",
      "1  training       1   \n",
      "2  training       1   \n",
      "3  training       1   \n",
      "4  training       1   \n",
      "\n",
      "                                                                                                                                                                                                                                                                                  caption  \\\n",
      "0  In this image there is a man standing near the wall and seeing the lake which is in front of him. There is a motorbike behind him on which there is a bag. The man is wearing the helmet. At the background there is lake which has sand and trees beside it. At the top there is sky.   \n",
      "1                            In the picture we can see a man is boating he is holding a stick, and driving the boat, in the sea, in the boat we can see fruits and vegetables are packed, in the background we can see another boats on the sea, and we can see some trees and buildings.   \n",
      "2                                                                                                                           In this image we can see there are so many boats floating on water in middle of grass ground and trees where we can see there are some electrical poles also.   \n",
      "3                                                                                                                                    In this image in the center there are two giraffes, at the bottom there is grass and some plants. In the background there is a fence and some trees.   \n",
      "4                                                                                     In this image on a bed there is a lady and a boy are lying down. They both are holding food. There is a glass beside the lady. They both are smiling. On the bed there are few pillows and blanket.   \n",
      "\n",
      "  source_dataset  \n",
      "0         mscoco  \n",
      "1         mscoco  \n",
      "2         mscoco  \n",
      "3         mscoco  \n",
      "4         mscoco  \n",
      "                                                                                                                                              image_url  \\\n",
      "0                                                       https://i.pinimg.com/736x/e1/b3/b4/e1b3b4bb0bc78e55309931c46661c7ac--disney-diy-disney-food.jpg   \n",
      "1                                               http://4.bp.blogspot.com/-ETyb5B0MliM/VhceZyOM2sI/AAAAAAAAD5Y/dfI2aNvTe5E/s1600/IMG-20150929-WA0000.jpg   \n",
      "2              http://l7.alamy.com/zooms/723775c12bec427b9e8ed2d0990f4429/a-man-looks-at-his-iphone-which-displays-the-stagecoach-logo-while-gkwtgj.jpg   \n",
      "3                                                               https://s-media-cache-ak0.pinimg.com/736x/40/a3/18/40a3186aa46244ce9fb9817a478c4563.jpg   \n",
      "4  https://us.123rf.com/450wm/123vector/123vector1404/123vector140400402/27835243-vector-illustration-of-no-swimming-sign-on-white-background.jpg?ver=6   \n",
      "\n",
      "     folder  exists  \\\n",
      "0  training       1   \n",
      "1  training       1   \n",
      "2  training       1   \n",
      "3  training       1   \n",
      "4  training       1   \n",
      "\n",
      "                                                                                                                                    caption  \\\n",
      "0                                                                                             the festival ~ focused - make these at home !   \n",
      "1                                                                                                       looks especially good from the back   \n",
      "2                                                          a man looks at computer which displays the logo , while sat with a cup of coffee   \n",
      "3  an interior design , decorating , and diy lifestyle blog with budget decor and furniture sources , paint colors , designer room images .   \n",
      "4                                                                        vector illustration of no swimming sign on white background vector   \n",
      "\n",
      "  source_dataset  \n",
      "0          cc_3m  \n",
      "1          cc_3m  \n",
      "2          cc_3m  \n",
      "3          cc_3m  \n",
      "4          cc_3m  \n"
     ]
    }
   ],
   "source": [
    "# oi_df.insert(4, 'source_dataset', ['open_images'] * len(oi_df), allow_duplicates=True)\n",
    "# ms_df.insert(4, 'source_dataset', ['mscoco'] * len(ms_df), allow_duplicates=True)\n",
    "cc_3m_df.insert(4, 'source_dataset', ['cc_3m'] * len(cc_3m_df), allow_duplicates=True)\n",
    "\n",
    "\n",
    "# oi_df[[\"exists\"]] = oi_df[['exists']].astype(int)\n",
    "# ms_df[[\"exists\"]] = ms_df[['exists']].astype(int)\n",
    "\n",
    "\n",
    "print(oi_df.head())\n",
    "print(ms_df.head())\n",
    "print(cc_3m_df.head())"
   ]
  },
  {
   "cell_type": "code",
   "execution_count": 24,
   "metadata": {},
   "outputs": [
    {
     "data": {
      "text/html": [
       "<div>\n",
       "<style scoped>\n",
       "    .dataframe tbody tr th:only-of-type {\n",
       "        vertical-align: middle;\n",
       "    }\n",
       "\n",
       "    .dataframe tbody tr th {\n",
       "        vertical-align: top;\n",
       "    }\n",
       "\n",
       "    .dataframe thead th {\n",
       "        text-align: right;\n",
       "    }\n",
       "</style>\n",
       "<table border=\"1\" class=\"dataframe\">\n",
       "  <thead>\n",
       "    <tr style=\"text-align: right;\">\n",
       "      <th></th>\n",
       "      <th>image_url</th>\n",
       "      <th>folder</th>\n",
       "      <th>exists</th>\n",
       "      <th>caption</th>\n",
       "      <th>source_dataset</th>\n",
       "    </tr>\n",
       "  </thead>\n",
       "  <tbody>\n",
       "    <tr>\n",
       "      <th>0</th>\n",
       "      <td>http://images.cocodataset.org/train2014/COCO_train2014_000000574357.jpg</td>\n",
       "      <td>training</td>\n",
       "      <td>1</td>\n",
       "      <td>In this image there is a man standing near the wall and seeing the lake which is in front of him. There is a motorbike behind him on which there is a bag. The man is wearing the helmet. At the background there is lake which has sand and trees beside it. At the top there is sky.</td>\n",
       "      <td>mscoco</td>\n",
       "    </tr>\n",
       "    <tr>\n",
       "      <th>1</th>\n",
       "      <td>http://images.cocodataset.org/train2014/COCO_train2014_000000498669.jpg</td>\n",
       "      <td>training</td>\n",
       "      <td>1</td>\n",
       "      <td>In the picture we can see a man is boating he is holding a stick, and driving the boat, in the sea, in the boat we can see fruits and vegetables are packed, in the background we can see another boats on the sea, and we can see some trees and buildings.</td>\n",
       "      <td>mscoco</td>\n",
       "    </tr>\n",
       "    <tr>\n",
       "      <th>2</th>\n",
       "      <td>http://images.cocodataset.org/train2014/COCO_train2014_000000043347.jpg</td>\n",
       "      <td>training</td>\n",
       "      <td>1</td>\n",
       "      <td>In this image we can see there are so many boats floating on water in middle of grass ground and trees where we can see there are some electrical poles also.</td>\n",
       "      <td>mscoco</td>\n",
       "    </tr>\n",
       "    <tr>\n",
       "      <th>3</th>\n",
       "      <td>http://images.cocodataset.org/train2014/COCO_train2014_000000226544.jpg</td>\n",
       "      <td>training</td>\n",
       "      <td>1</td>\n",
       "      <td>In this image in the center there are two giraffes, at the bottom there is grass and some plants. In the background there is a fence and some trees.</td>\n",
       "      <td>mscoco</td>\n",
       "    </tr>\n",
       "    <tr>\n",
       "      <th>4</th>\n",
       "      <td>http://images.cocodataset.org/train2014/COCO_train2014_000000424412.jpg</td>\n",
       "      <td>training</td>\n",
       "      <td>1</td>\n",
       "      <td>In this image on a bed there is a lady and a boy are lying down. They both are holding food. There is a glass beside the lady. They both are smiling. On the bed there are few pillows and blanket.</td>\n",
       "      <td>mscoco</td>\n",
       "    </tr>\n",
       "    <tr>\n",
       "      <th>...</th>\n",
       "      <td>...</td>\n",
       "      <td>...</td>\n",
       "      <td>...</td>\n",
       "      <td>...</td>\n",
       "      <td>...</td>\n",
       "    </tr>\n",
       "    <tr>\n",
       "      <th>2209351</th>\n",
       "      <td>http://l7.alamy.com/zooms/4b6fed86a6df4a1c9f45f845d6da1427/the-dome-of-vittorio-emanuele-gallery-in-the-center-of-milan-c73w99.jpg</td>\n",
       "      <td>training</td>\n",
       "      <td>1</td>\n",
       "      <td>the dome of gallery in the center</td>\n",
       "      <td>cc_3m</td>\n",
       "    </tr>\n",
       "    <tr>\n",
       "      <th>2209352</th>\n",
       "      <td>http://l7.alamy.com/zooms/ff0256cf2e7e442a95a2d884eaaad321/two-riders-galloping-on-norwegian-and-icelandic-horses-during-a-ride-b9f5c1.jpg</td>\n",
       "      <td>training</td>\n",
       "      <td>1</td>\n",
       "      <td>riders galloping on horses during a ride out in winter</td>\n",
       "      <td>cc_3m</td>\n",
       "    </tr>\n",
       "    <tr>\n",
       "      <th>2209353</th>\n",
       "      <td>http://livelovetexas.com/wp-content/uploads/2017/10/20-Best-Halloween-Books-for-Kids-1.jpg?x33929</td>\n",
       "      <td>training</td>\n",
       "      <td>1</td>\n",
       "      <td>get your kids excited and in the spirit with books .</td>\n",
       "      <td>cc_3m</td>\n",
       "    </tr>\n",
       "    <tr>\n",
       "      <th>2209354</th>\n",
       "      <td>https://ak7.picdn.net/shutterstock/videos/27124687/thumb/1.jpg</td>\n",
       "      <td>training</td>\n",
       "      <td>1</td>\n",
       "      <td>rain falls to the ground</td>\n",
       "      <td>cc_3m</td>\n",
       "    </tr>\n",
       "    <tr>\n",
       "      <th>2209355</th>\n",
       "      <td>https://us.123rf.com/450wm/artnis/artnis1510/artnis151000018/45683834-illustration-of-a-happy-family-at-breakfast-.jpg?ver=6</td>\n",
       "      <td>training</td>\n",
       "      <td>1</td>\n",
       "      <td>illustration of a happy family at breakfast .</td>\n",
       "      <td>cc_3m</td>\n",
       "    </tr>\n",
       "  </tbody>\n",
       "</table>\n",
       "<p>2851072 rows × 5 columns</p>\n",
       "</div>"
      ],
      "text/plain": [
       "                                                                                                                                          image_url  \\\n",
       "0                                                                           http://images.cocodataset.org/train2014/COCO_train2014_000000574357.jpg   \n",
       "1                                                                           http://images.cocodataset.org/train2014/COCO_train2014_000000498669.jpg   \n",
       "2                                                                           http://images.cocodataset.org/train2014/COCO_train2014_000000043347.jpg   \n",
       "3                                                                           http://images.cocodataset.org/train2014/COCO_train2014_000000226544.jpg   \n",
       "4                                                                           http://images.cocodataset.org/train2014/COCO_train2014_000000424412.jpg   \n",
       "...                                                                                                                                             ...   \n",
       "2209351          http://l7.alamy.com/zooms/4b6fed86a6df4a1c9f45f845d6da1427/the-dome-of-vittorio-emanuele-gallery-in-the-center-of-milan-c73w99.jpg   \n",
       "2209352  http://l7.alamy.com/zooms/ff0256cf2e7e442a95a2d884eaaad321/two-riders-galloping-on-norwegian-and-icelandic-horses-during-a-ride-b9f5c1.jpg   \n",
       "2209353                                           http://livelovetexas.com/wp-content/uploads/2017/10/20-Best-Halloween-Books-for-Kids-1.jpg?x33929   \n",
       "2209354                                                                              https://ak7.picdn.net/shutterstock/videos/27124687/thumb/1.jpg   \n",
       "2209355                https://us.123rf.com/450wm/artnis/artnis1510/artnis151000018/45683834-illustration-of-a-happy-family-at-breakfast-.jpg?ver=6   \n",
       "\n",
       "           folder  exists  \\\n",
       "0        training       1   \n",
       "1        training       1   \n",
       "2        training       1   \n",
       "3        training       1   \n",
       "4        training       1   \n",
       "...           ...     ...   \n",
       "2209351  training       1   \n",
       "2209352  training       1   \n",
       "2209353  training       1   \n",
       "2209354  training       1   \n",
       "2209355  training       1   \n",
       "\n",
       "                                                                                                                                                                                                                                                                                        caption  \\\n",
       "0        In this image there is a man standing near the wall and seeing the lake which is in front of him. There is a motorbike behind him on which there is a bag. The man is wearing the helmet. At the background there is lake which has sand and trees beside it. At the top there is sky.   \n",
       "1                                  In the picture we can see a man is boating he is holding a stick, and driving the boat, in the sea, in the boat we can see fruits and vegetables are packed, in the background we can see another boats on the sea, and we can see some trees and buildings.   \n",
       "2                                                                                                                                 In this image we can see there are so many boats floating on water in middle of grass ground and trees where we can see there are some electrical poles also.   \n",
       "3                                                                                                                                          In this image in the center there are two giraffes, at the bottom there is grass and some plants. In the background there is a fence and some trees.   \n",
       "4                                                                                           In this image on a bed there is a lady and a boy are lying down. They both are holding food. There is a glass beside the lady. They both are smiling. On the bed there are few pillows and blanket.   \n",
       "...                                                                                                                                                                                                                                                                                         ...   \n",
       "2209351                                                                                                                                                                                                                                                       the dome of gallery in the center   \n",
       "2209352                                                                                                                                                                                                                                  riders galloping on horses during a ride out in winter   \n",
       "2209353                                                                                                                                                                                                                                    get your kids excited and in the spirit with books .   \n",
       "2209354                                                                                                                                                                                                                                                                rain falls to the ground   \n",
       "2209355                                                                                                                                                                                                                                           illustration of a happy family at breakfast .   \n",
       "\n",
       "        source_dataset  \n",
       "0               mscoco  \n",
       "1               mscoco  \n",
       "2               mscoco  \n",
       "3               mscoco  \n",
       "4               mscoco  \n",
       "...                ...  \n",
       "2209351          cc_3m  \n",
       "2209352          cc_3m  \n",
       "2209353          cc_3m  \n",
       "2209354          cc_3m  \n",
       "2209355          cc_3m  \n",
       "\n",
       "[2851072 rows x 5 columns]"
      ]
     },
     "execution_count": 24,
     "metadata": {},
     "output_type": "execute_result"
    }
   ],
   "source": [
    "final_df = pd.concat([ms_df, oi_df, cc_3m_df])\n",
    "\n",
    "final_df"
   ]
  },
  {
   "cell_type": "code",
   "execution_count": 25,
   "metadata": {},
   "outputs": [],
   "source": [
    "final_df.to_csv('osf/multimodal_data/all_multimodal.tsv', sep='\\t')"
   ]
  },
  {
   "cell_type": "code",
   "execution_count": null,
   "metadata": {},
   "outputs": [],
   "source": []
  }
 ],
 "metadata": {
  "kernelspec": {
   "display_name": "babylm",
   "language": "python",
   "name": "python3"
  },
  "language_info": {
   "codemirror_mode": {
    "name": "ipython",
    "version": 3
   },
   "file_extension": ".py",
   "mimetype": "text/x-python",
   "name": "python",
   "nbconvert_exporter": "python",
   "pygments_lexer": "ipython3",
   "version": "3.10.14"
  }
 },
 "nbformat": 4,
 "nbformat_minor": 2
}
