{
 "cells": [
  {
   "cell_type": "code",
   "execution_count": 2,
   "metadata": {},
   "outputs": [],
   "source": [
    "import pandas as pd\n",
    "from tqdm import tqdm\n"
   ]
  },
  {
   "cell_type": "code",
   "execution_count": 3,
   "metadata": {},
   "outputs": [],
   "source": [
    "df = pd.read_csv('multimodal_train/all_multimodal.tsv', sep='\\t', index_col=0)"
   ]
  },
  {
   "cell_type": "code",
   "execution_count": 4,
   "metadata": {},
   "outputs": [
    {
     "data": {
      "text/plain": [
       "image_url         2851072\n",
       "folder            2851072\n",
       "exists            2851072\n",
       "caption           2851072\n",
       "source_dataset    2851072\n",
       "dtype: int64"
      ]
     },
     "execution_count": 4,
     "metadata": {},
     "output_type": "execute_result"
    }
   ],
   "source": [
    "df.count()"
   ]
  },
  {
   "cell_type": "code",
   "execution_count": 10,
   "metadata": {},
   "outputs": [
    {
     "ename": "KeyError",
     "evalue": "False",
     "output_type": "error",
     "traceback": [
      "\u001b[0;31m---------------------------------------------------------------------------\u001b[0m",
      "\u001b[0;31mKeyError\u001b[0m                                  Traceback (most recent call last)",
      "File \u001b[0;32m~/miniconda3/envs/babylm/lib/python3.10/site-packages/pandas/core/indexes/base.py:3805\u001b[0m, in \u001b[0;36mIndex.get_loc\u001b[0;34m(self, key)\u001b[0m\n\u001b[1;32m   3804\u001b[0m \u001b[38;5;28;01mtry\u001b[39;00m:\n\u001b[0;32m-> 3805\u001b[0m     \u001b[38;5;28;01mreturn\u001b[39;00m \u001b[38;5;28;43mself\u001b[39;49m\u001b[38;5;241;43m.\u001b[39;49m\u001b[43m_engine\u001b[49m\u001b[38;5;241;43m.\u001b[39;49m\u001b[43mget_loc\u001b[49m\u001b[43m(\u001b[49m\u001b[43mcasted_key\u001b[49m\u001b[43m)\u001b[49m\n\u001b[1;32m   3806\u001b[0m \u001b[38;5;28;01mexcept\u001b[39;00m \u001b[38;5;167;01mKeyError\u001b[39;00m \u001b[38;5;28;01mas\u001b[39;00m err:\n",
      "File \u001b[0;32mindex.pyx:167\u001b[0m, in \u001b[0;36mpandas._libs.index.IndexEngine.get_loc\u001b[0;34m()\u001b[0m\n",
      "File \u001b[0;32mindex.pyx:196\u001b[0m, in \u001b[0;36mpandas._libs.index.IndexEngine.get_loc\u001b[0;34m()\u001b[0m\n",
      "File \u001b[0;32mpandas/_libs/hashtable_class_helper.pxi:7081\u001b[0m, in \u001b[0;36mpandas._libs.hashtable.PyObjectHashTable.get_item\u001b[0;34m()\u001b[0m\n",
      "File \u001b[0;32mpandas/_libs/hashtable_class_helper.pxi:7089\u001b[0m, in \u001b[0;36mpandas._libs.hashtable.PyObjectHashTable.get_item\u001b[0;34m()\u001b[0m\n",
      "\u001b[0;31mKeyError\u001b[0m: False",
      "\nThe above exception was the direct cause of the following exception:\n",
      "\u001b[0;31mKeyError\u001b[0m                                  Traceback (most recent call last)",
      "Cell \u001b[0;32mIn[10], line 1\u001b[0m\n\u001b[0;32m----> 1\u001b[0m \u001b[43mdf\u001b[49m\u001b[43m[\u001b[49m\u001b[43mdf\u001b[49m\u001b[43m[\u001b[49m\u001b[38;5;124;43m'\u001b[39;49m\u001b[38;5;124;43mcaption\u001b[39;49m\u001b[38;5;124;43m'\u001b[39;49m\u001b[43m]\u001b[49m\u001b[38;5;241;43m.\u001b[39;49m\u001b[38;5;21;43m__len__\u001b[39;49m\u001b[43m(\u001b[49m\u001b[43m)\u001b[49m\u001b[43m \u001b[49m\u001b[38;5;241;43m==\u001b[39;49m\u001b[43m \u001b[49m\u001b[38;5;241;43m0\u001b[39;49m\u001b[43m]\u001b[49m\n",
      "File \u001b[0;32m~/miniconda3/envs/babylm/lib/python3.10/site-packages/pandas/core/frame.py:4102\u001b[0m, in \u001b[0;36mDataFrame.__getitem__\u001b[0;34m(self, key)\u001b[0m\n\u001b[1;32m   4100\u001b[0m \u001b[38;5;28;01mif\u001b[39;00m \u001b[38;5;28mself\u001b[39m\u001b[38;5;241m.\u001b[39mcolumns\u001b[38;5;241m.\u001b[39mnlevels \u001b[38;5;241m>\u001b[39m \u001b[38;5;241m1\u001b[39m:\n\u001b[1;32m   4101\u001b[0m     \u001b[38;5;28;01mreturn\u001b[39;00m \u001b[38;5;28mself\u001b[39m\u001b[38;5;241m.\u001b[39m_getitem_multilevel(key)\n\u001b[0;32m-> 4102\u001b[0m indexer \u001b[38;5;241m=\u001b[39m \u001b[38;5;28;43mself\u001b[39;49m\u001b[38;5;241;43m.\u001b[39;49m\u001b[43mcolumns\u001b[49m\u001b[38;5;241;43m.\u001b[39;49m\u001b[43mget_loc\u001b[49m\u001b[43m(\u001b[49m\u001b[43mkey\u001b[49m\u001b[43m)\u001b[49m\n\u001b[1;32m   4103\u001b[0m \u001b[38;5;28;01mif\u001b[39;00m is_integer(indexer):\n\u001b[1;32m   4104\u001b[0m     indexer \u001b[38;5;241m=\u001b[39m [indexer]\n",
      "File \u001b[0;32m~/miniconda3/envs/babylm/lib/python3.10/site-packages/pandas/core/indexes/base.py:3812\u001b[0m, in \u001b[0;36mIndex.get_loc\u001b[0;34m(self, key)\u001b[0m\n\u001b[1;32m   3807\u001b[0m     \u001b[38;5;28;01mif\u001b[39;00m \u001b[38;5;28misinstance\u001b[39m(casted_key, \u001b[38;5;28mslice\u001b[39m) \u001b[38;5;129;01mor\u001b[39;00m (\n\u001b[1;32m   3808\u001b[0m         \u001b[38;5;28misinstance\u001b[39m(casted_key, abc\u001b[38;5;241m.\u001b[39mIterable)\n\u001b[1;32m   3809\u001b[0m         \u001b[38;5;129;01mand\u001b[39;00m \u001b[38;5;28many\u001b[39m(\u001b[38;5;28misinstance\u001b[39m(x, \u001b[38;5;28mslice\u001b[39m) \u001b[38;5;28;01mfor\u001b[39;00m x \u001b[38;5;129;01min\u001b[39;00m casted_key)\n\u001b[1;32m   3810\u001b[0m     ):\n\u001b[1;32m   3811\u001b[0m         \u001b[38;5;28;01mraise\u001b[39;00m InvalidIndexError(key)\n\u001b[0;32m-> 3812\u001b[0m     \u001b[38;5;28;01mraise\u001b[39;00m \u001b[38;5;167;01mKeyError\u001b[39;00m(key) \u001b[38;5;28;01mfrom\u001b[39;00m \u001b[38;5;21;01merr\u001b[39;00m\n\u001b[1;32m   3813\u001b[0m \u001b[38;5;28;01mexcept\u001b[39;00m \u001b[38;5;167;01mTypeError\u001b[39;00m:\n\u001b[1;32m   3814\u001b[0m     \u001b[38;5;66;03m# If we have a listlike key, _check_indexing_error will raise\u001b[39;00m\n\u001b[1;32m   3815\u001b[0m     \u001b[38;5;66;03m#  InvalidIndexError. Otherwise we fall through and re-raise\u001b[39;00m\n\u001b[1;32m   3816\u001b[0m     \u001b[38;5;66;03m#  the TypeError.\u001b[39;00m\n\u001b[1;32m   3817\u001b[0m     \u001b[38;5;28mself\u001b[39m\u001b[38;5;241m.\u001b[39m_check_indexing_error(key)\n",
      "\u001b[0;31mKeyError\u001b[0m: False"
     ]
    }
   ],
   "source": [
    "df[df['caption'].__len__() == 0]"
   ]
  },
  {
   "cell_type": "code",
   "execution_count": 11,
   "metadata": {},
   "outputs": [],
   "source": [
    "df_new = df[df['image_url'].str.contains('mscoco')==False]"
   ]
  },
  {
   "cell_type": "code",
   "execution_count": 18,
   "metadata": {},
   "outputs": [
    {
     "data": {
      "text/html": [
       "<div>\n",
       "<style scoped>\n",
       "    .dataframe tbody tr th:only-of-type {\n",
       "        vertical-align: middle;\n",
       "    }\n",
       "\n",
       "    .dataframe tbody tr th {\n",
       "        vertical-align: top;\n",
       "    }\n",
       "\n",
       "    .dataframe thead th {\n",
       "        text-align: right;\n",
       "    }\n",
       "</style>\n",
       "<table border=\"1\" class=\"dataframe\">\n",
       "  <thead>\n",
       "    <tr style=\"text-align: right;\">\n",
       "      <th></th>\n",
       "      <th>image_url</th>\n",
       "      <th>folder</th>\n",
       "      <th>exists</th>\n",
       "      <th>caption</th>\n",
       "      <th>source_dataset</th>\n",
       "    </tr>\n",
       "  </thead>\n",
       "  <tbody>\n",
       "    <tr>\n",
       "      <th>0</th>\n",
       "      <td>https://i.pinimg.com/736x/e1/b3/b4/e1b3b4bb0bc...</td>\n",
       "      <td>training</td>\n",
       "      <td>1</td>\n",
       "      <td>the festival ~ focused - make these at home !</td>\n",
       "      <td>cc_3m</td>\n",
       "    </tr>\n",
       "    <tr>\n",
       "      <th>1</th>\n",
       "      <td>http://4.bp.blogspot.com/-ETyb5B0MliM/VhceZyOM...</td>\n",
       "      <td>training</td>\n",
       "      <td>1</td>\n",
       "      <td>looks especially good from the back</td>\n",
       "      <td>cc_3m</td>\n",
       "    </tr>\n",
       "    <tr>\n",
       "      <th>2</th>\n",
       "      <td>http://l7.alamy.com/zooms/723775c12bec427b9e8e...</td>\n",
       "      <td>training</td>\n",
       "      <td>1</td>\n",
       "      <td>a man looks at computer which displays the log...</td>\n",
       "      <td>cc_3m</td>\n",
       "    </tr>\n",
       "    <tr>\n",
       "      <th>3</th>\n",
       "      <td>https://s-media-cache-ak0.pinimg.com/736x/40/a...</td>\n",
       "      <td>training</td>\n",
       "      <td>1</td>\n",
       "      <td>an interior design , decorating , and diy life...</td>\n",
       "      <td>cc_3m</td>\n",
       "    </tr>\n",
       "    <tr>\n",
       "      <th>4</th>\n",
       "      <td>https://us.123rf.com/450wm/123vector/123vector...</td>\n",
       "      <td>training</td>\n",
       "      <td>1</td>\n",
       "      <td>vector illustration of no swimming sign on whi...</td>\n",
       "      <td>cc_3m</td>\n",
       "    </tr>\n",
       "    <tr>\n",
       "      <th>...</th>\n",
       "      <td>...</td>\n",
       "      <td>...</td>\n",
       "      <td>...</td>\n",
       "      <td>...</td>\n",
       "      <td>...</td>\n",
       "    </tr>\n",
       "    <tr>\n",
       "      <th>2209351</th>\n",
       "      <td>http://l7.alamy.com/zooms/4b6fed86a6df4a1c9f45...</td>\n",
       "      <td>training</td>\n",
       "      <td>1</td>\n",
       "      <td>the dome of gallery in the center</td>\n",
       "      <td>cc_3m</td>\n",
       "    </tr>\n",
       "    <tr>\n",
       "      <th>2209352</th>\n",
       "      <td>http://l7.alamy.com/zooms/ff0256cf2e7e442a95a2...</td>\n",
       "      <td>training</td>\n",
       "      <td>1</td>\n",
       "      <td>riders galloping on horses during a ride out i...</td>\n",
       "      <td>cc_3m</td>\n",
       "    </tr>\n",
       "    <tr>\n",
       "      <th>2209353</th>\n",
       "      <td>http://livelovetexas.com/wp-content/uploads/20...</td>\n",
       "      <td>training</td>\n",
       "      <td>1</td>\n",
       "      <td>get your kids excited and in the spirit with b...</td>\n",
       "      <td>cc_3m</td>\n",
       "    </tr>\n",
       "    <tr>\n",
       "      <th>2209354</th>\n",
       "      <td>https://ak7.picdn.net/shutterstock/videos/2712...</td>\n",
       "      <td>training</td>\n",
       "      <td>1</td>\n",
       "      <td>rain falls to the ground</td>\n",
       "      <td>cc_3m</td>\n",
       "    </tr>\n",
       "    <tr>\n",
       "      <th>2209355</th>\n",
       "      <td>https://us.123rf.com/450wm/artnis/artnis1510/a...</td>\n",
       "      <td>training</td>\n",
       "      <td>1</td>\n",
       "      <td>illustration of a happy family at breakfast .</td>\n",
       "      <td>cc_3m</td>\n",
       "    </tr>\n",
       "  </tbody>\n",
       "</table>\n",
       "<p>2207719 rows × 5 columns</p>\n",
       "</div>"
      ],
      "text/plain": [
       "                                                 image_url    folder  exists  \\\n",
       "0        https://i.pinimg.com/736x/e1/b3/b4/e1b3b4bb0bc...  training       1   \n",
       "1        http://4.bp.blogspot.com/-ETyb5B0MliM/VhceZyOM...  training       1   \n",
       "2        http://l7.alamy.com/zooms/723775c12bec427b9e8e...  training       1   \n",
       "3        https://s-media-cache-ak0.pinimg.com/736x/40/a...  training       1   \n",
       "4        https://us.123rf.com/450wm/123vector/123vector...  training       1   \n",
       "...                                                    ...       ...     ...   \n",
       "2209351  http://l7.alamy.com/zooms/4b6fed86a6df4a1c9f45...  training       1   \n",
       "2209352  http://l7.alamy.com/zooms/ff0256cf2e7e442a95a2...  training       1   \n",
       "2209353  http://livelovetexas.com/wp-content/uploads/20...  training       1   \n",
       "2209354  https://ak7.picdn.net/shutterstock/videos/2712...  training       1   \n",
       "2209355  https://us.123rf.com/450wm/artnis/artnis1510/a...  training       1   \n",
       "\n",
       "                                                   caption source_dataset  \n",
       "0            the festival ~ focused - make these at home !          cc_3m  \n",
       "1                      looks especially good from the back          cc_3m  \n",
       "2        a man looks at computer which displays the log...          cc_3m  \n",
       "3        an interior design , decorating , and diy life...          cc_3m  \n",
       "4        vector illustration of no swimming sign on whi...          cc_3m  \n",
       "...                                                    ...            ...  \n",
       "2209351                  the dome of gallery in the center          cc_3m  \n",
       "2209352  riders galloping on horses during a ride out i...          cc_3m  \n",
       "2209353  get your kids excited and in the spirit with b...          cc_3m  \n",
       "2209354                           rain falls to the ground          cc_3m  \n",
       "2209355      illustration of a happy family at breakfast .          cc_3m  \n",
       "\n",
       "[2207719 rows x 5 columns]"
      ]
     },
     "execution_count": 18,
     "metadata": {},
     "output_type": "execute_result"
    }
   ],
   "source": [
    "df[(df['image_url'].str.contains('open-images') == False) & (df['image_url'].str.contains('coco')==False)]"
   ]
  },
  {
   "cell_type": "code",
   "execution_count": 23,
   "metadata": {},
   "outputs": [
    {
     "data": {
      "text/html": [
       "<div>\n",
       "<style scoped>\n",
       "    .dataframe tbody tr th:only-of-type {\n",
       "        vertical-align: middle;\n",
       "    }\n",
       "\n",
       "    .dataframe tbody tr th {\n",
       "        vertical-align: top;\n",
       "    }\n",
       "\n",
       "    .dataframe thead th {\n",
       "        text-align: right;\n",
       "    }\n",
       "</style>\n",
       "<table border=\"1\" class=\"dataframe\">\n",
       "  <thead>\n",
       "    <tr style=\"text-align: right;\">\n",
       "      <th></th>\n",
       "      <th>image_url</th>\n",
       "      <th>folder</th>\n",
       "      <th>exists</th>\n",
       "      <th>caption</th>\n",
       "      <th>source_dataset</th>\n",
       "    </tr>\n",
       "  </thead>\n",
       "  <tbody>\n",
       "  </tbody>\n",
       "</table>\n",
       "</div>"
      ],
      "text/plain": [
       "Empty DataFrame\n",
       "Columns: [image_url, folder, exists, caption, source_dataset]\n",
       "Index: []"
      ]
     },
     "execution_count": 23,
     "metadata": {},
     "output_type": "execute_result"
    }
   ],
   "source": [
    "df[(df['image_url'].str.contains('sciencephoto') == True)]"
   ]
  },
  {
   "cell_type": "code",
   "execution_count": 8,
   "metadata": {},
   "outputs": [
    {
     "data": {
      "text/plain": [
       "0          http://images.cocodataset.org/train2014/COCO_t...\n",
       "1          http://images.cocodataset.org/train2014/COCO_t...\n",
       "2          http://images.cocodataset.org/train2014/COCO_t...\n",
       "3          http://images.cocodataset.org/train2014/COCO_t...\n",
       "4          http://images.cocodataset.org/train2014/COCO_t...\n",
       "                                 ...                        \n",
       "2209351    http://l7.alamy.com/zooms/4b6fed86a6df4a1c9f45...\n",
       "2209352    http://l7.alamy.com/zooms/ff0256cf2e7e442a95a2...\n",
       "2209353    http://livelovetexas.com/wp-content/uploads/20...\n",
       "2209354    https://ak7.picdn.net/shutterstock/videos/2712...\n",
       "2209355    https://us.123rf.com/450wm/artnis/artnis1510/a...\n",
       "Name: image_url, Length: 2851072, dtype: object"
      ]
     },
     "execution_count": 8,
     "metadata": {},
     "output_type": "execute_result"
    }
   ],
   "source": [
    "df_new"
   ]
  },
  {
   "cell_type": "code",
   "execution_count": 15,
   "metadata": {},
   "outputs": [
    {
     "data": {
      "text/plain": [
       "image_url         2851072\n",
       "folder            2851072\n",
       "exists            2851072\n",
       "caption           2851072\n",
       "source_dataset    2851072\n",
       "dtype: int64"
      ]
     },
     "execution_count": 15,
     "metadata": {},
     "output_type": "execute_result"
    }
   ],
   "source": [
    "df_new.count()"
   ]
  },
  {
   "cell_type": "code",
   "execution_count": null,
   "metadata": {},
   "outputs": [],
   "source": []
  },
  {
   "cell_type": "code",
   "execution_count": 36,
   "metadata": {},
   "outputs": [],
   "source": [
    "\n",
    "open_images_tsv = 'osf/multimodal_data/open_images_train.tsv'\n",
    "\n",
    "mscoco_tsv = 'osf/multimodal_data/mscoco_train.tsv'\n",
    "\n",
    "cc_3m_tsv = 'osf/multimodal_data/cc_3m_training_exists_concatenated_with_captions_reduced_unzip.tsv'\n",
    "\n",
    "oi_df = pd.read_csv(open_images_tsv, sep='\\t', index_col=0)\n",
    "\n",
    "ms_df = pd.read_csv(mscoco_tsv, sep='\\t', index_col=0)\n",
    "\n",
    "cc_3m_df = pd.read_csv(cc_3m_tsv, sep='\\t', index_col=0)"
   ]
  },
  {
   "cell_type": "code",
   "execution_count": 37,
   "metadata": {},
   "outputs": [
    {
     "name": "stdout",
     "output_type": "stream",
     "text": [
      "                                           image_url    folder  exists  \\\n",
      "0  https://s3.amazonaws.com/open-images-dataset/t...  training       1   \n",
      "1  https://s3.amazonaws.com/open-images-dataset/t...  training       1   \n",
      "2  https://s3.amazonaws.com/open-images-dataset/t...  training       1   \n",
      "3  https://s3.amazonaws.com/open-images-dataset/t...  training       1   \n",
      "4  https://s3.amazonaws.com/open-images-dataset/t...  training       1   \n",
      "\n",
      "                                             caption source_dataset  \n",
      "0  We can see dolls,book and papers on bed and we...    open_images  \n",
      "1  In this picture I can see there is a airplane ...    open_images  \n",
      "2  This looks like a black and white poster. I ca...    open_images  \n",
      "3  In this image I can see on the left side it is...    open_images  \n",
      "4  In this picture I can see group of people sitt...    open_images  \n",
      "                                           image_url    folder  exists  \\\n",
      "0  http://images.cocodataset.org/train2014/COCO_t...  training       1   \n",
      "1  http://images.cocodataset.org/train2014/COCO_t...  training       1   \n",
      "2  http://images.cocodataset.org/train2014/COCO_t...  training       1   \n",
      "3  http://images.cocodataset.org/train2014/COCO_t...  training       1   \n",
      "4  http://images.cocodataset.org/train2014/COCO_t...  training       1   \n",
      "\n",
      "                                             caption source_dataset  \n",
      "0  In this image there is a man standing near the...         mscoco  \n",
      "1  In the picture we can see a man is boating he ...         mscoco  \n",
      "2  In this image we can see there are so many boa...         mscoco  \n",
      "3  In this image in the center there are two gira...         mscoco  \n",
      "4  In this image on a bed there is a lady and a b...         mscoco  \n",
      "                                           image_url    folder  exists  \\\n",
      "0  https://i.pinimg.com/736x/e1/b3/b4/e1b3b4bb0bc...  training       1   \n",
      "1  http://4.bp.blogspot.com/-ETyb5B0MliM/VhceZyOM...  training       1   \n",
      "2  http://l7.alamy.com/zooms/723775c12bec427b9e8e...  training       1   \n",
      "3  https://s-media-cache-ak0.pinimg.com/736x/40/a...  training       1   \n",
      "4  https://us.123rf.com/450wm/123vector/123vector...  training       1   \n",
      "\n",
      "                                             caption  \n",
      "0      the festival ~ focused - make these at home !  \n",
      "1                looks especially good from the back  \n",
      "2  a man looks at computer which displays the log...  \n",
      "3  an interior design , decorating , and diy life...  \n",
      "4  vector illustration of no swimming sign on whi...  \n"
     ]
    }
   ],
   "source": [
    "print(oi_df.head())\n",
    "print(ms_df.head())\n",
    "print(cc_3m_df.head())"
   ]
  },
  {
   "cell_type": "code",
   "execution_count": 40,
   "metadata": {},
   "outputs": [
    {
     "data": {
      "text/plain": [
       "image_url         134272\n",
       "folder            134272\n",
       "exists            134272\n",
       "caption           134272\n",
       "source_dataset    134272\n",
       "dtype: int64"
      ]
     },
     "execution_count": 40,
     "metadata": {},
     "output_type": "execute_result"
    }
   ],
   "source": [
    "ms_df.count()"
   ]
  },
  {
   "cell_type": "code",
   "execution_count": 5,
   "metadata": {},
   "outputs": [
    {
     "ename": "NameError",
     "evalue": "name 'oi_df' is not defined",
     "output_type": "error",
     "traceback": [
      "\u001b[0;31m---------------------------------------------------------------------------\u001b[0m",
      "\u001b[0;31mNameError\u001b[0m                                 Traceback (most recent call last)",
      "Cell \u001b[0;32mIn[5], line 1\u001b[0m\n\u001b[0;32m----> 1\u001b[0m \u001b[43moi_df\u001b[49m[\u001b[38;5;124m'\u001b[39m\u001b[38;5;124mexists\u001b[39m\u001b[38;5;124m'\u001b[39m]\u001b[38;5;241m.\u001b[39munique()\n",
      "\u001b[0;31mNameError\u001b[0m: name 'oi_df' is not defined"
     ]
    }
   ],
   "source": [
    "oi_df['exists'].unique()"
   ]
  },
  {
   "cell_type": "code",
   "execution_count": 20,
   "metadata": {},
   "outputs": [],
   "source": [
    "oi_df[\"exists\"] = [1] * len(oi_df)"
   ]
  },
  {
   "cell_type": "code",
   "execution_count": 41,
   "metadata": {},
   "outputs": [
    {
     "name": "stdout",
     "output_type": "stream",
     "text": [
      "                                           image_url    folder  exists  \\\n",
      "0  https://s3.amazonaws.com/open-images-dataset/t...  training       1   \n",
      "1  https://s3.amazonaws.com/open-images-dataset/t...  training       1   \n",
      "2  https://s3.amazonaws.com/open-images-dataset/t...  training       1   \n",
      "3  https://s3.amazonaws.com/open-images-dataset/t...  training       1   \n",
      "4  https://s3.amazonaws.com/open-images-dataset/t...  training       1   \n",
      "\n",
      "                                             caption source_dataset  \n",
      "0  We can see dolls,book and papers on bed and we...    open_images  \n",
      "1  In this picture I can see there is a airplane ...    open_images  \n",
      "2  This looks like a black and white poster. I ca...    open_images  \n",
      "3  In this image I can see on the left side it is...    open_images  \n",
      "4  In this picture I can see group of people sitt...    open_images  \n",
      "                                           image_url    folder  exists  \\\n",
      "0  http://images.cocodataset.org/train2014/COCO_t...  training       1   \n",
      "1  http://images.cocodataset.org/train2014/COCO_t...  training       1   \n",
      "2  http://images.cocodataset.org/train2014/COCO_t...  training       1   \n",
      "3  http://images.cocodataset.org/train2014/COCO_t...  training       1   \n",
      "4  http://images.cocodataset.org/train2014/COCO_t...  training       1   \n",
      "\n",
      "                                             caption source_dataset  \n",
      "0  In this image there is a man standing near the...         mscoco  \n",
      "1  In the picture we can see a man is boating he ...         mscoco  \n",
      "2  In this image we can see there are so many boa...         mscoco  \n",
      "3  In this image in the center there are two gira...         mscoco  \n",
      "4  In this image on a bed there is a lady and a b...         mscoco  \n",
      "                                           image_url    folder  exists  \\\n",
      "0  https://i.pinimg.com/736x/e1/b3/b4/e1b3b4bb0bc...  training       1   \n",
      "1  http://4.bp.blogspot.com/-ETyb5B0MliM/VhceZyOM...  training       1   \n",
      "2  http://l7.alamy.com/zooms/723775c12bec427b9e8e...  training       1   \n",
      "3  https://s-media-cache-ak0.pinimg.com/736x/40/a...  training       1   \n",
      "4  https://us.123rf.com/450wm/123vector/123vector...  training       1   \n",
      "\n",
      "                                             caption source_dataset  \n",
      "0      the festival ~ focused - make these at home !          cc_3m  \n",
      "1                looks especially good from the back          cc_3m  \n",
      "2  a man looks at computer which displays the log...          cc_3m  \n",
      "3  an interior design , decorating , and diy life...          cc_3m  \n",
      "4  vector illustration of no swimming sign on whi...          cc_3m  \n"
     ]
    }
   ],
   "source": [
    "# oi_df.insert(4, 'source_dataset', ['open_images'] * len(oi_df), allow_duplicates=True)\n",
    "# ms_df.insert(4, 'source_dataset', ['mscoco'] * len(ms_df), allow_duplicates=True)\n",
    "cc_3m_df.insert(4, 'source_dataset', ['cc_3m'] * len(cc_3m_df), allow_duplicates=True)\n",
    "\n",
    "\n",
    "# oi_df[[\"exists\"]] = oi_df[['exists']].astype(int)\n",
    "# ms_df[[\"exists\"]] = ms_df[['exists']].astype(int)\n",
    "\n",
    "\n",
    "print(oi_df.head())\n",
    "print(ms_df.head())\n",
    "print(cc_3m_df.head())"
   ]
  },
  {
   "cell_type": "code",
   "execution_count": 42,
   "metadata": {},
   "outputs": [
    {
     "data": {
      "text/html": [
       "<div>\n",
       "<style scoped>\n",
       "    .dataframe tbody tr th:only-of-type {\n",
       "        vertical-align: middle;\n",
       "    }\n",
       "\n",
       "    .dataframe tbody tr th {\n",
       "        vertical-align: top;\n",
       "    }\n",
       "\n",
       "    .dataframe thead th {\n",
       "        text-align: right;\n",
       "    }\n",
       "</style>\n",
       "<table border=\"1\" class=\"dataframe\">\n",
       "  <thead>\n",
       "    <tr style=\"text-align: right;\">\n",
       "      <th></th>\n",
       "      <th>image_url</th>\n",
       "      <th>folder</th>\n",
       "      <th>exists</th>\n",
       "      <th>caption</th>\n",
       "      <th>source_dataset</th>\n",
       "    </tr>\n",
       "  </thead>\n",
       "  <tbody>\n",
       "    <tr>\n",
       "      <th>0</th>\n",
       "      <td>http://images.cocodataset.org/train2014/COCO_t...</td>\n",
       "      <td>training</td>\n",
       "      <td>1</td>\n",
       "      <td>In this image there is a man standing near the...</td>\n",
       "      <td>mscoco</td>\n",
       "    </tr>\n",
       "    <tr>\n",
       "      <th>1</th>\n",
       "      <td>http://images.cocodataset.org/train2014/COCO_t...</td>\n",
       "      <td>training</td>\n",
       "      <td>1</td>\n",
       "      <td>In the picture we can see a man is boating he ...</td>\n",
       "      <td>mscoco</td>\n",
       "    </tr>\n",
       "    <tr>\n",
       "      <th>2</th>\n",
       "      <td>http://images.cocodataset.org/train2014/COCO_t...</td>\n",
       "      <td>training</td>\n",
       "      <td>1</td>\n",
       "      <td>In this image we can see there are so many boa...</td>\n",
       "      <td>mscoco</td>\n",
       "    </tr>\n",
       "    <tr>\n",
       "      <th>3</th>\n",
       "      <td>http://images.cocodataset.org/train2014/COCO_t...</td>\n",
       "      <td>training</td>\n",
       "      <td>1</td>\n",
       "      <td>In this image in the center there are two gira...</td>\n",
       "      <td>mscoco</td>\n",
       "    </tr>\n",
       "    <tr>\n",
       "      <th>4</th>\n",
       "      <td>http://images.cocodataset.org/train2014/COCO_t...</td>\n",
       "      <td>training</td>\n",
       "      <td>1</td>\n",
       "      <td>In this image on a bed there is a lady and a b...</td>\n",
       "      <td>mscoco</td>\n",
       "    </tr>\n",
       "    <tr>\n",
       "      <th>...</th>\n",
       "      <td>...</td>\n",
       "      <td>...</td>\n",
       "      <td>...</td>\n",
       "      <td>...</td>\n",
       "      <td>...</td>\n",
       "    </tr>\n",
       "    <tr>\n",
       "      <th>2209351</th>\n",
       "      <td>http://l7.alamy.com/zooms/4b6fed86a6df4a1c9f45...</td>\n",
       "      <td>training</td>\n",
       "      <td>1</td>\n",
       "      <td>the dome of gallery in the center</td>\n",
       "      <td>cc_3m</td>\n",
       "    </tr>\n",
       "    <tr>\n",
       "      <th>2209352</th>\n",
       "      <td>http://l7.alamy.com/zooms/ff0256cf2e7e442a95a2...</td>\n",
       "      <td>training</td>\n",
       "      <td>1</td>\n",
       "      <td>riders galloping on horses during a ride out i...</td>\n",
       "      <td>cc_3m</td>\n",
       "    </tr>\n",
       "    <tr>\n",
       "      <th>2209353</th>\n",
       "      <td>http://livelovetexas.com/wp-content/uploads/20...</td>\n",
       "      <td>training</td>\n",
       "      <td>1</td>\n",
       "      <td>get your kids excited and in the spirit with b...</td>\n",
       "      <td>cc_3m</td>\n",
       "    </tr>\n",
       "    <tr>\n",
       "      <th>2209354</th>\n",
       "      <td>https://ak7.picdn.net/shutterstock/videos/2712...</td>\n",
       "      <td>training</td>\n",
       "      <td>1</td>\n",
       "      <td>rain falls to the ground</td>\n",
       "      <td>cc_3m</td>\n",
       "    </tr>\n",
       "    <tr>\n",
       "      <th>2209355</th>\n",
       "      <td>https://us.123rf.com/450wm/artnis/artnis1510/a...</td>\n",
       "      <td>training</td>\n",
       "      <td>1</td>\n",
       "      <td>illustration of a happy family at breakfast .</td>\n",
       "      <td>cc_3m</td>\n",
       "    </tr>\n",
       "  </tbody>\n",
       "</table>\n",
       "<p>2851072 rows × 5 columns</p>\n",
       "</div>"
      ],
      "text/plain": [
       "                                                 image_url    folder  exists  \\\n",
       "0        http://images.cocodataset.org/train2014/COCO_t...  training       1   \n",
       "1        http://images.cocodataset.org/train2014/COCO_t...  training       1   \n",
       "2        http://images.cocodataset.org/train2014/COCO_t...  training       1   \n",
       "3        http://images.cocodataset.org/train2014/COCO_t...  training       1   \n",
       "4        http://images.cocodataset.org/train2014/COCO_t...  training       1   \n",
       "...                                                    ...       ...     ...   \n",
       "2209351  http://l7.alamy.com/zooms/4b6fed86a6df4a1c9f45...  training       1   \n",
       "2209352  http://l7.alamy.com/zooms/ff0256cf2e7e442a95a2...  training       1   \n",
       "2209353  http://livelovetexas.com/wp-content/uploads/20...  training       1   \n",
       "2209354  https://ak7.picdn.net/shutterstock/videos/2712...  training       1   \n",
       "2209355  https://us.123rf.com/450wm/artnis/artnis1510/a...  training       1   \n",
       "\n",
       "                                                   caption source_dataset  \n",
       "0        In this image there is a man standing near the...         mscoco  \n",
       "1        In the picture we can see a man is boating he ...         mscoco  \n",
       "2        In this image we can see there are so many boa...         mscoco  \n",
       "3        In this image in the center there are two gira...         mscoco  \n",
       "4        In this image on a bed there is a lady and a b...         mscoco  \n",
       "...                                                    ...            ...  \n",
       "2209351                  the dome of gallery in the center          cc_3m  \n",
       "2209352  riders galloping on horses during a ride out i...          cc_3m  \n",
       "2209353  get your kids excited and in the spirit with b...          cc_3m  \n",
       "2209354                           rain falls to the ground          cc_3m  \n",
       "2209355      illustration of a happy family at breakfast .          cc_3m  \n",
       "\n",
       "[2851072 rows x 5 columns]"
      ]
     },
     "execution_count": 42,
     "metadata": {},
     "output_type": "execute_result"
    }
   ],
   "source": [
    "final_df = pd.concat([ms_df, oi_df, cc_3m_df])\n",
    "\n",
    "final_df"
   ]
  },
  {
   "cell_type": "code",
   "execution_count": null,
   "metadata": {},
   "outputs": [],
   "source": [
    "final_df.to_csv('osf/multimodal_data/multimodal_train/all_multimodal.tsv', sep='\\t')"
   ]
  }
 ],
 "metadata": {
  "kernelspec": {
   "display_name": "babylm",
   "language": "python",
   "name": "python3"
  },
  "language_info": {
   "codemirror_mode": {
    "name": "ipython",
    "version": 3
   },
   "file_extension": ".py",
   "mimetype": "text/x-python",
   "name": "python",
   "nbconvert_exporter": "python",
   "pygments_lexer": "ipython3",
   "version": "3.10.14"
  }
 },
 "nbformat": 4,
 "nbformat_minor": 2
}
